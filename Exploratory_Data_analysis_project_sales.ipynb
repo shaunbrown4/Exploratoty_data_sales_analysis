{
 "cells": [
  {
   "attachments": {},
   "cell_type": "markdown",
   "metadata": {},
   "source": [
    "# Exploratory Data Analysis"
   ]
  },
  {
   "attachments": {},
   "cell_type": "markdown",
   "metadata": {},
   "source": [
    "setup proprer imports for \n",
    "pandas, Matplotlib, and MySQL Connector"
   ]
  },
  {
   "cell_type": "code",
   "execution_count": 4,
   "metadata": {},
   "outputs": [],
   "source": [
    "import pandas as pd\n",
    "import matplotlib.pyplot as plt\n",
    "import mysql.connector as connection"
   ]
  },
  {
   "attachments": {},
   "cell_type": "markdown",
   "metadata": {},
   "source": [
    "Use My SQL connector to establish connection to My remote data source "
   ]
  },
  {
   "cell_type": "code",
   "execution_count": 5,
   "metadata": {},
   "outputs": [],
   "source": [
    "mydb = connection.connect(host=\"devcodecamp-mysql.c5p7yvjq1h8y.us-east-2.rds.amazonaws.com\", database=\"salesdb\",  user=\"root\",  password=\"D3v$tudent\" , use_pure=True)\n",
    "\n"
   ]
  },
  {
   "attachments": {},
   "cell_type": "markdown",
   "metadata": {},
   "source": [
    "As a Data Analyst, I want to query my database to JOIN the information from the sales and cities tables together, and save the result as a single DataFrame variable\n"
   ]
  },
  {
   "cell_type": "code",
   "execution_count": 6,
   "metadata": {},
   "outputs": [
    {
     "name": "stderr",
     "output_type": "stream",
     "text": [
      "C:\\Users\\shaun\\AppData\\Local\\Temp\\ipykernel_30676\\79957463.py:3: UserWarning: pandas only supports SQLAlchemy connectable (engine/connection) or database string URI or sqlite3 DBAPI2 connection. Other DBAPI2 objects are not tested. Please consider using SQLAlchemy.\n",
      "  df = pd.read_sql_query(select_query, mydb)\n"
     ]
    },
    {
     "name": "stdout",
     "output_type": "stream",
     "text": [
      "<class 'pandas.core.frame.DataFrame'>\n",
      "RangeIndex: 3000 entries, 0 to 2999\n",
      "Data columns (total 16 columns):\n",
      " #   Column         Non-Null Count  Dtype  \n",
      "---  ------         --------------  -----  \n",
      " 0   Invoice_ID     3000 non-null   object \n",
      " 1   Customer_Type  3000 non-null   object \n",
      " 2   Gender         3000 non-null   object \n",
      " 3   Product_Line   3000 non-null   object \n",
      " 4   Unit_Price     3000 non-null   float64\n",
      " 5   Quantity       3000 non-null   int64  \n",
      " 6   Sales_Tax      0 non-null      object \n",
      " 7   Total          3000 non-null   float64\n",
      " 8   Date           3000 non-null   object \n",
      " 9   Time           3000 non-null   object \n",
      " 10  Payment        3000 non-null   object \n",
      " 11  COGS           3000 non-null   float64\n",
      " 12  Gross_Income   3000 non-null   float64\n",
      " 13  Rating         3000 non-null   float64\n",
      " 14  City_ID        3000 non-null   int64  \n",
      " 15  City           3000 non-null   object \n",
      "dtypes: float64(5), int64(2), object(9)\n",
      "memory usage: 375.1+ KB\n"
     ]
    }
   ],
   "source": [
    "select_query = \"SELECT * FROM sales, cities \"\n",
    "\n",
    "df = pd.read_sql_query(select_query, mydb)\n",
    "df.info()\n"
   ]
  },
  {
   "attachments": {},
   "cell_type": "markdown",
   "metadata": {},
   "source": [
    "As a Data Analyst, I want to perform the necessary data cleaning and wrangling steps for my DataFrame.  \n",
    "\n",
    "-Exploring the information of the joined DataFrame\n",
    "-Checking for and removing null values, if necessary\n",
    "-Checking for and removing duplicate rows, if necessary\n",
    "-Converting any necessary columns to Pandas DateTime format\n"
   ]
  },
  {
   "cell_type": "code",
   "execution_count": 7,
   "metadata": {},
   "outputs": [
    {
     "name": "stdout",
     "output_type": "stream",
     "text": [
      "<class 'pandas.core.frame.DataFrame'>\n",
      "RangeIndex: 3000 entries, 0 to 2999\n",
      "Data columns (total 16 columns):\n",
      " #   Column         Non-Null Count  Dtype  \n",
      "---  ------         --------------  -----  \n",
      " 0   Invoice_ID     3000 non-null   object \n",
      " 1   Customer_Type  3000 non-null   object \n",
      " 2   Gender         3000 non-null   object \n",
      " 3   Product_Line   3000 non-null   object \n",
      " 4   Unit_Price     3000 non-null   float64\n",
      " 5   Quantity       3000 non-null   int64  \n",
      " 6   Sales_Tax      0 non-null      object \n",
      " 7   Total          3000 non-null   float64\n",
      " 8   Date           3000 non-null   object \n",
      " 9   Time           3000 non-null   object \n",
      " 10  Payment        3000 non-null   object \n",
      " 11  COGS           3000 non-null   float64\n",
      " 12  Gross_Income   3000 non-null   float64\n",
      " 13  Rating         3000 non-null   float64\n",
      " 14  City_ID        3000 non-null   int64  \n",
      " 15  City           3000 non-null   object \n",
      "dtypes: float64(5), int64(2), object(9)\n",
      "memory usage: 375.1+ KB\n"
     ]
    }
   ],
   "source": [
    "df.duplicated().sort_values\n",
    "df.info()"
   ]
  },
  {
   "cell_type": "code",
   "execution_count": 8,
   "metadata": {},
   "outputs": [
    {
     "data": {
      "text/html": [
       "<div>\n",
       "<style scoped>\n",
       "    .dataframe tbody tr th:only-of-type {\n",
       "        vertical-align: middle;\n",
       "    }\n",
       "\n",
       "    .dataframe tbody tr th {\n",
       "        vertical-align: top;\n",
       "    }\n",
       "\n",
       "    .dataframe thead th {\n",
       "        text-align: right;\n",
       "    }\n",
       "</style>\n",
       "<table border=\"1\" class=\"dataframe\">\n",
       "  <thead>\n",
       "    <tr style=\"text-align: right;\">\n",
       "      <th></th>\n",
       "      <th>Invoice_ID</th>\n",
       "      <th>Customer_Type</th>\n",
       "      <th>Gender</th>\n",
       "      <th>Product_Line</th>\n",
       "      <th>Unit_Price</th>\n",
       "      <th>Quantity</th>\n",
       "      <th>Total</th>\n",
       "      <th>Date</th>\n",
       "      <th>Payment</th>\n",
       "      <th>COGS</th>\n",
       "      <th>Gross_Income</th>\n",
       "      <th>Rating</th>\n",
       "      <th>City_ID</th>\n",
       "      <th>City</th>\n",
       "    </tr>\n",
       "  </thead>\n",
       "  <tbody>\n",
       "    <tr>\n",
       "      <th>0</th>\n",
       "      <td>101-17-6199</td>\n",
       "      <td>Normal</td>\n",
       "      <td>Male</td>\n",
       "      <td>Food and beverages</td>\n",
       "      <td>45.79</td>\n",
       "      <td>7</td>\n",
       "      <td>336.5565</td>\n",
       "      <td>3/13/2019</td>\n",
       "      <td>Credit card</td>\n",
       "      <td>320.53</td>\n",
       "      <td>16.0265</td>\n",
       "      <td>7.0</td>\n",
       "      <td>3</td>\n",
       "      <td>Milwaukee</td>\n",
       "    </tr>\n",
       "    <tr>\n",
       "      <th>1</th>\n",
       "      <td>101-17-6199</td>\n",
       "      <td>Normal</td>\n",
       "      <td>Male</td>\n",
       "      <td>Food and beverages</td>\n",
       "      <td>45.79</td>\n",
       "      <td>7</td>\n",
       "      <td>336.5565</td>\n",
       "      <td>3/13/2019</td>\n",
       "      <td>Credit card</td>\n",
       "      <td>320.53</td>\n",
       "      <td>16.0265</td>\n",
       "      <td>7.0</td>\n",
       "      <td>2</td>\n",
       "      <td>New York City</td>\n",
       "    </tr>\n",
       "    <tr>\n",
       "      <th>2</th>\n",
       "      <td>101-17-6199</td>\n",
       "      <td>Normal</td>\n",
       "      <td>Male</td>\n",
       "      <td>Food and beverages</td>\n",
       "      <td>45.79</td>\n",
       "      <td>7</td>\n",
       "      <td>336.5565</td>\n",
       "      <td>3/13/2019</td>\n",
       "      <td>Credit card</td>\n",
       "      <td>320.53</td>\n",
       "      <td>16.0265</td>\n",
       "      <td>7.0</td>\n",
       "      <td>1</td>\n",
       "      <td>Seattle</td>\n",
       "    </tr>\n",
       "    <tr>\n",
       "      <th>3</th>\n",
       "      <td>101-81-4070</td>\n",
       "      <td>Member</td>\n",
       "      <td>Female</td>\n",
       "      <td>Health and beauty</td>\n",
       "      <td>62.82</td>\n",
       "      <td>2</td>\n",
       "      <td>131.9220</td>\n",
       "      <td>1/17/2019</td>\n",
       "      <td>Ewallet</td>\n",
       "      <td>125.64</td>\n",
       "      <td>6.2820</td>\n",
       "      <td>4.9</td>\n",
       "      <td>3</td>\n",
       "      <td>Milwaukee</td>\n",
       "    </tr>\n",
       "    <tr>\n",
       "      <th>4</th>\n",
       "      <td>101-81-4070</td>\n",
       "      <td>Member</td>\n",
       "      <td>Female</td>\n",
       "      <td>Health and beauty</td>\n",
       "      <td>62.82</td>\n",
       "      <td>2</td>\n",
       "      <td>131.9220</td>\n",
       "      <td>1/17/2019</td>\n",
       "      <td>Ewallet</td>\n",
       "      <td>125.64</td>\n",
       "      <td>6.2820</td>\n",
       "      <td>4.9</td>\n",
       "      <td>2</td>\n",
       "      <td>New York City</td>\n",
       "    </tr>\n",
       "  </tbody>\n",
       "</table>\n",
       "</div>"
      ],
      "text/plain": [
       "    Invoice_ID Customer_Type  Gender        Product_Line  Unit_Price   \n",
       "0  101-17-6199        Normal    Male  Food and beverages       45.79  \\\n",
       "1  101-17-6199        Normal    Male  Food and beverages       45.79   \n",
       "2  101-17-6199        Normal    Male  Food and beverages       45.79   \n",
       "3  101-81-4070        Member  Female   Health and beauty       62.82   \n",
       "4  101-81-4070        Member  Female   Health and beauty       62.82   \n",
       "\n",
       "   Quantity     Total       Date      Payment    COGS  Gross_Income  Rating   \n",
       "0         7  336.5565  3/13/2019  Credit card  320.53       16.0265     7.0  \\\n",
       "1         7  336.5565  3/13/2019  Credit card  320.53       16.0265     7.0   \n",
       "2         7  336.5565  3/13/2019  Credit card  320.53       16.0265     7.0   \n",
       "3         2  131.9220  1/17/2019      Ewallet  125.64        6.2820     4.9   \n",
       "4         2  131.9220  1/17/2019      Ewallet  125.64        6.2820     4.9   \n",
       "\n",
       "   City_ID           City  \n",
       "0        3      Milwaukee  \n",
       "1        2  New York City  \n",
       "2        1        Seattle  \n",
       "3        3      Milwaukee  \n",
       "4        2  New York City  "
      ]
     },
     "execution_count": 8,
     "metadata": {},
     "output_type": "execute_result"
    }
   ],
   "source": [
    "drop_df = df.drop( [\"Sales_Tax\", \"Time\"] , axis=1)\n",
    "drop_df.head()"
   ]
  },
  {
   "cell_type": "code",
   "execution_count": 9,
   "metadata": {},
   "outputs": [
    {
     "name": "stdout",
     "output_type": "stream",
     "text": [
      "<class 'pandas.core.frame.DataFrame'>\n",
      "RangeIndex: 3000 entries, 0 to 2999\n",
      "Data columns (total 14 columns):\n",
      " #   Column         Non-Null Count  Dtype         \n",
      "---  ------         --------------  -----         \n",
      " 0   Invoice_ID     3000 non-null   object        \n",
      " 1   Customer_Type  3000 non-null   object        \n",
      " 2   Gender         3000 non-null   object        \n",
      " 3   Product_Line   3000 non-null   object        \n",
      " 4   Unit_Price     3000 non-null   float64       \n",
      " 5   Quantity       3000 non-null   int64         \n",
      " 6   Total          3000 non-null   float64       \n",
      " 7   Date           3000 non-null   datetime64[ns]\n",
      " 8   Payment        3000 non-null   object        \n",
      " 9   COGS           3000 non-null   float64       \n",
      " 10  Gross_Income   3000 non-null   float64       \n",
      " 11  Rating         3000 non-null   float64       \n",
      " 12  City_ID        3000 non-null   int64         \n",
      " 13  City           3000 non-null   object        \n",
      "dtypes: datetime64[ns](1), float64(5), int64(2), object(6)\n",
      "memory usage: 328.2+ KB\n"
     ]
    }
   ],
   "source": [
    "drop_df[\"Date\"] = pd.to_datetime(drop_df[\"Date\"])\n",
    "drop_df.info()"
   ]
  },
  {
   "cell_type": "code",
   "execution_count": 10,
   "metadata": {},
   "outputs": [
    {
     "data": {
      "text/html": [
       "<div>\n",
       "<style scoped>\n",
       "    .dataframe tbody tr th:only-of-type {\n",
       "        vertical-align: middle;\n",
       "    }\n",
       "\n",
       "    .dataframe tbody tr th {\n",
       "        vertical-align: top;\n",
       "    }\n",
       "\n",
       "    .dataframe thead th {\n",
       "        text-align: right;\n",
       "    }\n",
       "</style>\n",
       "<table border=\"1\" class=\"dataframe\">\n",
       "  <thead>\n",
       "    <tr style=\"text-align: right;\">\n",
       "      <th></th>\n",
       "      <th>Invoice_ID</th>\n",
       "      <th>Customer_Type</th>\n",
       "      <th>Gender</th>\n",
       "      <th>Product_Line</th>\n",
       "      <th>Unit_Price</th>\n",
       "      <th>Quantity</th>\n",
       "      <th>Total</th>\n",
       "      <th>Date</th>\n",
       "      <th>Payment</th>\n",
       "      <th>COGS</th>\n",
       "      <th>Gross_Income</th>\n",
       "      <th>Rating</th>\n",
       "      <th>City_ID</th>\n",
       "      <th>City</th>\n",
       "    </tr>\n",
       "  </thead>\n",
       "  <tbody>\n",
       "    <tr>\n",
       "      <th>0</th>\n",
       "      <td>101-17-6199</td>\n",
       "      <td>Normal</td>\n",
       "      <td>Male</td>\n",
       "      <td>Food and beverages</td>\n",
       "      <td>45.79</td>\n",
       "      <td>7</td>\n",
       "      <td>336.5565</td>\n",
       "      <td>2019-03-13</td>\n",
       "      <td>Credit card</td>\n",
       "      <td>320.53</td>\n",
       "      <td>16.0265</td>\n",
       "      <td>7.0</td>\n",
       "      <td>3</td>\n",
       "      <td>Milwaukee</td>\n",
       "    </tr>\n",
       "    <tr>\n",
       "      <th>1</th>\n",
       "      <td>101-17-6199</td>\n",
       "      <td>Normal</td>\n",
       "      <td>Male</td>\n",
       "      <td>Food and beverages</td>\n",
       "      <td>45.79</td>\n",
       "      <td>7</td>\n",
       "      <td>336.5565</td>\n",
       "      <td>2019-03-13</td>\n",
       "      <td>Credit card</td>\n",
       "      <td>320.53</td>\n",
       "      <td>16.0265</td>\n",
       "      <td>7.0</td>\n",
       "      <td>2</td>\n",
       "      <td>New York City</td>\n",
       "    </tr>\n",
       "    <tr>\n",
       "      <th>2</th>\n",
       "      <td>101-17-6199</td>\n",
       "      <td>Normal</td>\n",
       "      <td>Male</td>\n",
       "      <td>Food and beverages</td>\n",
       "      <td>45.79</td>\n",
       "      <td>7</td>\n",
       "      <td>336.5565</td>\n",
       "      <td>2019-03-13</td>\n",
       "      <td>Credit card</td>\n",
       "      <td>320.53</td>\n",
       "      <td>16.0265</td>\n",
       "      <td>7.0</td>\n",
       "      <td>1</td>\n",
       "      <td>Seattle</td>\n",
       "    </tr>\n",
       "    <tr>\n",
       "      <th>3</th>\n",
       "      <td>101-81-4070</td>\n",
       "      <td>Member</td>\n",
       "      <td>Female</td>\n",
       "      <td>Health and beauty</td>\n",
       "      <td>62.82</td>\n",
       "      <td>2</td>\n",
       "      <td>131.9220</td>\n",
       "      <td>2019-01-17</td>\n",
       "      <td>Ewallet</td>\n",
       "      <td>125.64</td>\n",
       "      <td>6.2820</td>\n",
       "      <td>4.9</td>\n",
       "      <td>3</td>\n",
       "      <td>Milwaukee</td>\n",
       "    </tr>\n",
       "    <tr>\n",
       "      <th>4</th>\n",
       "      <td>101-81-4070</td>\n",
       "      <td>Member</td>\n",
       "      <td>Female</td>\n",
       "      <td>Health and beauty</td>\n",
       "      <td>62.82</td>\n",
       "      <td>2</td>\n",
       "      <td>131.9220</td>\n",
       "      <td>2019-01-17</td>\n",
       "      <td>Ewallet</td>\n",
       "      <td>125.64</td>\n",
       "      <td>6.2820</td>\n",
       "      <td>4.9</td>\n",
       "      <td>2</td>\n",
       "      <td>New York City</td>\n",
       "    </tr>\n",
       "  </tbody>\n",
       "</table>\n",
       "</div>"
      ],
      "text/plain": [
       "    Invoice_ID Customer_Type  Gender        Product_Line  Unit_Price   \n",
       "0  101-17-6199        Normal    Male  Food and beverages       45.79  \\\n",
       "1  101-17-6199        Normal    Male  Food and beverages       45.79   \n",
       "2  101-17-6199        Normal    Male  Food and beverages       45.79   \n",
       "3  101-81-4070        Member  Female   Health and beauty       62.82   \n",
       "4  101-81-4070        Member  Female   Health and beauty       62.82   \n",
       "\n",
       "   Quantity     Total       Date      Payment    COGS  Gross_Income  Rating   \n",
       "0         7  336.5565 2019-03-13  Credit card  320.53       16.0265     7.0  \\\n",
       "1         7  336.5565 2019-03-13  Credit card  320.53       16.0265     7.0   \n",
       "2         7  336.5565 2019-03-13  Credit card  320.53       16.0265     7.0   \n",
       "3         2  131.9220 2019-01-17      Ewallet  125.64        6.2820     4.9   \n",
       "4         2  131.9220 2019-01-17      Ewallet  125.64        6.2820     4.9   \n",
       "\n",
       "   City_ID           City  \n",
       "0        3      Milwaukee  \n",
       "1        2  New York City  \n",
       "2        1        Seattle  \n",
       "3        3      Milwaukee  \n",
       "4        2  New York City  "
      ]
     },
     "execution_count": 10,
     "metadata": {},
     "output_type": "execute_result"
    }
   ],
   "source": [
    "drop_df.head()"
   ]
  },
  {
   "attachments": {},
   "cell_type": "markdown",
   "metadata": {},
   "source": [
    " ### As a Data Analyst, I want to explore my DataFrame to examine the spread of values across categories.  \n",
    "\n",
    "-How many sales were made for members vs. normal customers?\n",
    "-How many sales were made at each store location?\n",
    "-How many sales were made for each product line?\n",
    "-What is the overall average rating, based on all sales records?\n"
   ]
  },
  {
   "cell_type": "code",
   "execution_count": 11,
   "metadata": {},
   "outputs": [
    {
     "data": {
      "text/plain": [
       "Text(0, 0.5, '')"
      ]
     },
     "execution_count": 11,
     "metadata": {},
     "output_type": "execute_result"
    },
    {
     "data": {
      "image/png": "[encoded data removed]",
      "text/plain": [
       "<Figure size 640x480 with 1 Axes>"
      ]
     },
     "metadata": {},
     "output_type": "display_data"
    }
   ],
   "source": [
    "customer_df = drop_df[\"Customer_Type\"].value_counts()\n",
    "customer_df.plot.hist();\n",
    "plt.title(\"Customer Type\")\n",
    "plt.xlabel(\"Number of Customer\")\n",
    "plt.ylabel(\"\");\n"
   ]
  },
  {
   "cell_type": "code",
   "execution_count": 36,
   "metadata": {},
   "outputs": [
    {
     "data": {
      "image/png": "[encoded data removed]",
      "text/plain": [
       "<Figure size 640x480 with 1 Axes>"
      ]
     },
     "metadata": {},
     "output_type": "display_data"
    }
   ],
   "source": [
    "location_df = drop_df[\"City\"].value_counts()\n",
    "location_df.plot.pie();\n",
    "plt.title(\"cities\")\n",
    "plt.ylabel(\"\");"
   ]
  },
  {
   "cell_type": "code",
   "execution_count": 13,
   "metadata": {},
   "outputs": [
    {
     "data": {
      "text/plain": [
       "<Axes: title={'center': 'Product Sales'}, ylabel='Product_Line'>"
      ]
     },
     "execution_count": 13,
     "metadata": {},
     "output_type": "execute_result"
    },
    {
     "data": {
      "image/png": "[encoded data removed]",
      "text/plain": [
       "<Figure size 640x480 with 1 Axes>"
      ]
     },
     "metadata": {},
     "output_type": "display_data"
    }
   ],
   "source": [
    "product_df = drop_df[\"Product_Line\"].value_counts()\n",
    "plt.title(\"Product Sales\",fontsize=18)\n",
    "\n",
    "plt.ylabel(\"Procuct Line\")\n",
    "\n",
    "plt.xlabel(\"Sales\")\n",
    "\n",
    "product_df.plot.barh()\n"
   ]
  },
  {
   "cell_type": "code",
   "execution_count": 14,
   "metadata": {},
   "outputs": [
    {
     "data": {
      "text/plain": [
       "Rating\n",
       "6.0     78\n",
       "6.6     72\n",
       "9.5     66\n",
       "4.2     66\n",
       "6.5     63\n",
       "        ..\n",
       "5.3     33\n",
       "4.0     33\n",
       "8.3     33\n",
       "4.6     24\n",
       "10.0    15\n",
       "Name: count, Length: 61, dtype: int64"
      ]
     },
     "execution_count": 14,
     "metadata": {},
     "output_type": "execute_result"
    }
   ],
   "source": [
    "average_df = drop_df[\"Rating\"].value_counts()\n",
    "average_df"
   ]
  },
  {
   "attachments": {},
   "cell_type": "markdown",
   "metadata": {},
   "source": [
    "As a Data Analyst, I want to create three visualizations of my DataFrame to better understand any trends or patterns within my data set.  These charts will be a type of my choosing, and I can select which variables to analyze.  All three charts should contain the following:\n",
    "A chart title\n",
    "X-axis labels, if applicable\n",
    "Y-axis labels, if applicable\n"
   ]
  },
  {
   "attachments": {},
   "cell_type": "markdown",
   "metadata": {},
   "source": [
    "# Exploratory Data Analysis pt2"
   ]
  },
  {
   "attachments": {},
   "cell_type": "markdown",
   "metadata": {},
   "source": [
    " As a Data Analyst, I want to set up the proper imports so I have access to the scikit-learn Python library\n"
   ]
  },
  {
   "cell_type": "code",
   "execution_count": 15,
   "metadata": {},
   "outputs": [],
   "source": [
    "from sklearn.linear_model import LinearRegression"
   ]
  },
  {
   "attachments": {},
   "cell_type": "markdown",
   "metadata": {},
   "source": [
    "As a Data Analyst, I want to describe numeric trends in my DataFrame, using the appropriate Pandas function\n"
   ]
  },
  {
   "cell_type": "code",
   "execution_count": 16,
   "metadata": {},
   "outputs": [
    {
     "data": {
      "text/html": [
       "<div>\n",
       "<style scoped>\n",
       "    .dataframe tbody tr th:only-of-type {\n",
       "        vertical-align: middle;\n",
       "    }\n",
       "\n",
       "    .dataframe tbody tr th {\n",
       "        vertical-align: top;\n",
       "    }\n",
       "\n",
       "    .dataframe thead th {\n",
       "        text-align: right;\n",
       "    }\n",
       "</style>\n",
       "<table border=\"1\" class=\"dataframe\">\n",
       "  <thead>\n",
       "    <tr style=\"text-align: right;\">\n",
       "      <th></th>\n",
       "      <th>Invoice_ID</th>\n",
       "      <th>Customer_Type</th>\n",
       "      <th>Gender</th>\n",
       "      <th>Product_Line</th>\n",
       "      <th>Unit_Price</th>\n",
       "      <th>Quantity</th>\n",
       "      <th>Total</th>\n",
       "      <th>Date</th>\n",
       "      <th>Payment</th>\n",
       "      <th>COGS</th>\n",
       "      <th>Gross_Income</th>\n",
       "      <th>Rating</th>\n",
       "      <th>City_ID</th>\n",
       "      <th>City</th>\n",
       "    </tr>\n",
       "  </thead>\n",
       "  <tbody>\n",
       "    <tr>\n",
       "      <th>0</th>\n",
       "      <td>101-17-6199</td>\n",
       "      <td>Normal</td>\n",
       "      <td>Male</td>\n",
       "      <td>Food and beverages</td>\n",
       "      <td>45.79</td>\n",
       "      <td>7</td>\n",
       "      <td>336.5565</td>\n",
       "      <td>2019-03-13</td>\n",
       "      <td>Credit card</td>\n",
       "      <td>320.53</td>\n",
       "      <td>16.0265</td>\n",
       "      <td>7.0</td>\n",
       "      <td>3</td>\n",
       "      <td>Milwaukee</td>\n",
       "    </tr>\n",
       "    <tr>\n",
       "      <th>1</th>\n",
       "      <td>101-17-6199</td>\n",
       "      <td>Normal</td>\n",
       "      <td>Male</td>\n",
       "      <td>Food and beverages</td>\n",
       "      <td>45.79</td>\n",
       "      <td>7</td>\n",
       "      <td>336.5565</td>\n",
       "      <td>2019-03-13</td>\n",
       "      <td>Credit card</td>\n",
       "      <td>320.53</td>\n",
       "      <td>16.0265</td>\n",
       "      <td>7.0</td>\n",
       "      <td>2</td>\n",
       "      <td>New York City</td>\n",
       "    </tr>\n",
       "    <tr>\n",
       "      <th>2</th>\n",
       "      <td>101-17-6199</td>\n",
       "      <td>Normal</td>\n",
       "      <td>Male</td>\n",
       "      <td>Food and beverages</td>\n",
       "      <td>45.79</td>\n",
       "      <td>7</td>\n",
       "      <td>336.5565</td>\n",
       "      <td>2019-03-13</td>\n",
       "      <td>Credit card</td>\n",
       "      <td>320.53</td>\n",
       "      <td>16.0265</td>\n",
       "      <td>7.0</td>\n",
       "      <td>1</td>\n",
       "      <td>Seattle</td>\n",
       "    </tr>\n",
       "    <tr>\n",
       "      <th>3</th>\n",
       "      <td>101-81-4070</td>\n",
       "      <td>Member</td>\n",
       "      <td>Female</td>\n",
       "      <td>Health and beauty</td>\n",
       "      <td>62.82</td>\n",
       "      <td>2</td>\n",
       "      <td>131.9220</td>\n",
       "      <td>2019-01-17</td>\n",
       "      <td>Ewallet</td>\n",
       "      <td>125.64</td>\n",
       "      <td>6.2820</td>\n",
       "      <td>4.9</td>\n",
       "      <td>3</td>\n",
       "      <td>Milwaukee</td>\n",
       "    </tr>\n",
       "    <tr>\n",
       "      <th>4</th>\n",
       "      <td>101-81-4070</td>\n",
       "      <td>Member</td>\n",
       "      <td>Female</td>\n",
       "      <td>Health and beauty</td>\n",
       "      <td>62.82</td>\n",
       "      <td>2</td>\n",
       "      <td>131.9220</td>\n",
       "      <td>2019-01-17</td>\n",
       "      <td>Ewallet</td>\n",
       "      <td>125.64</td>\n",
       "      <td>6.2820</td>\n",
       "      <td>4.9</td>\n",
       "      <td>2</td>\n",
       "      <td>New York City</td>\n",
       "    </tr>\n",
       "  </tbody>\n",
       "</table>\n",
       "</div>"
      ],
      "text/plain": [
       "    Invoice_ID Customer_Type  Gender        Product_Line  Unit_Price   \n",
       "0  101-17-6199        Normal    Male  Food and beverages       45.79  \\\n",
       "1  101-17-6199        Normal    Male  Food and beverages       45.79   \n",
       "2  101-17-6199        Normal    Male  Food and beverages       45.79   \n",
       "3  101-81-4070        Member  Female   Health and beauty       62.82   \n",
       "4  101-81-4070        Member  Female   Health and beauty       62.82   \n",
       "\n",
       "   Quantity     Total       Date      Payment    COGS  Gross_Income  Rating   \n",
       "0         7  336.5565 2019-03-13  Credit card  320.53       16.0265     7.0  \\\n",
       "1         7  336.5565 2019-03-13  Credit card  320.53       16.0265     7.0   \n",
       "2         7  336.5565 2019-03-13  Credit card  320.53       16.0265     7.0   \n",
       "3         2  131.9220 2019-01-17      Ewallet  125.64        6.2820     4.9   \n",
       "4         2  131.9220 2019-01-17      Ewallet  125.64        6.2820     4.9   \n",
       "\n",
       "   City_ID           City  \n",
       "0        3      Milwaukee  \n",
       "1        2  New York City  \n",
       "2        1        Seattle  \n",
       "3        3      Milwaukee  \n",
       "4        2  New York City  "
      ]
     },
     "execution_count": 16,
     "metadata": {},
     "output_type": "execute_result"
    }
   ],
   "source": [
    "drop_df.head()"
   ]
  },
  {
   "cell_type": "code",
   "execution_count": 17,
   "metadata": {},
   "outputs": [
    {
     "data": {
      "text/html": [
       "<div>\n",
       "<style scoped>\n",
       "    .dataframe tbody tr th:only-of-type {\n",
       "        vertical-align: middle;\n",
       "    }\n",
       "\n",
       "    .dataframe tbody tr th {\n",
       "        vertical-align: top;\n",
       "    }\n",
       "\n",
       "    .dataframe thead th {\n",
       "        text-align: right;\n",
       "    }\n",
       "</style>\n",
       "<table border=\"1\" class=\"dataframe\">\n",
       "  <thead>\n",
       "    <tr style=\"text-align: right;\">\n",
       "      <th></th>\n",
       "      <th>Unit_Price</th>\n",
       "      <th>Quantity</th>\n",
       "      <th>Total</th>\n",
       "      <th>Date</th>\n",
       "      <th>COGS</th>\n",
       "      <th>Gross_Income</th>\n",
       "      <th>Rating</th>\n",
       "      <th>City_ID</th>\n",
       "    </tr>\n",
       "  </thead>\n",
       "  <tbody>\n",
       "    <tr>\n",
       "      <th>count</th>\n",
       "      <td>3000.000000</td>\n",
       "      <td>3000.000000</td>\n",
       "      <td>3000.000000</td>\n",
       "      <td>3000</td>\n",
       "      <td>3000.000000</td>\n",
       "      <td>3000.000000</td>\n",
       "      <td>3000.000000</td>\n",
       "      <td>3000.000000</td>\n",
       "    </tr>\n",
       "    <tr>\n",
       "      <th>mean</th>\n",
       "      <td>55.672130</td>\n",
       "      <td>5.510000</td>\n",
       "      <td>322.966749</td>\n",
       "      <td>2019-02-14 00:05:45.600000</td>\n",
       "      <td>307.587380</td>\n",
       "      <td>15.379369</td>\n",
       "      <td>6.972700</td>\n",
       "      <td>2.000000</td>\n",
       "    </tr>\n",
       "    <tr>\n",
       "      <th>min</th>\n",
       "      <td>10.080000</td>\n",
       "      <td>1.000000</td>\n",
       "      <td>10.678500</td>\n",
       "      <td>2019-01-01 00:00:00</td>\n",
       "      <td>10.170000</td>\n",
       "      <td>0.508500</td>\n",
       "      <td>4.000000</td>\n",
       "      <td>1.000000</td>\n",
       "    </tr>\n",
       "    <tr>\n",
       "      <th>25%</th>\n",
       "      <td>32.875000</td>\n",
       "      <td>3.000000</td>\n",
       "      <td>124.422375</td>\n",
       "      <td>2019-01-24 00:00:00</td>\n",
       "      <td>118.497500</td>\n",
       "      <td>5.924875</td>\n",
       "      <td>5.500000</td>\n",
       "      <td>1.000000</td>\n",
       "    </tr>\n",
       "    <tr>\n",
       "      <th>50%</th>\n",
       "      <td>55.230000</td>\n",
       "      <td>5.000000</td>\n",
       "      <td>253.848000</td>\n",
       "      <td>2019-02-13 00:00:00</td>\n",
       "      <td>241.760000</td>\n",
       "      <td>12.088000</td>\n",
       "      <td>7.000000</td>\n",
       "      <td>2.000000</td>\n",
       "    </tr>\n",
       "    <tr>\n",
       "      <th>75%</th>\n",
       "      <td>77.935000</td>\n",
       "      <td>8.000000</td>\n",
       "      <td>471.350250</td>\n",
       "      <td>2019-03-08 00:00:00</td>\n",
       "      <td>448.905000</td>\n",
       "      <td>22.445250</td>\n",
       "      <td>8.500000</td>\n",
       "      <td>3.000000</td>\n",
       "    </tr>\n",
       "    <tr>\n",
       "      <th>max</th>\n",
       "      <td>99.960000</td>\n",
       "      <td>10.000000</td>\n",
       "      <td>1042.650000</td>\n",
       "      <td>2019-03-30 00:00:00</td>\n",
       "      <td>993.000000</td>\n",
       "      <td>49.650000</td>\n",
       "      <td>10.000000</td>\n",
       "      <td>3.000000</td>\n",
       "    </tr>\n",
       "    <tr>\n",
       "      <th>std</th>\n",
       "      <td>26.485792</td>\n",
       "      <td>2.922456</td>\n",
       "      <td>245.803332</td>\n",
       "      <td>NaN</td>\n",
       "      <td>234.098412</td>\n",
       "      <td>11.704921</td>\n",
       "      <td>1.718007</td>\n",
       "      <td>0.816633</td>\n",
       "    </tr>\n",
       "  </tbody>\n",
       "</table>\n",
       "</div>"
      ],
      "text/plain": [
       "        Unit_Price     Quantity        Total                        Date   \n",
       "count  3000.000000  3000.000000  3000.000000                        3000  \\\n",
       "mean     55.672130     5.510000   322.966749  2019-02-14 00:05:45.600000   \n",
       "min      10.080000     1.000000    10.678500         2019-01-01 00:00:00   \n",
       "25%      32.875000     3.000000   124.422375         2019-01-24 00:00:00   \n",
       "50%      55.230000     5.000000   253.848000         2019-02-13 00:00:00   \n",
       "75%      77.935000     8.000000   471.350250         2019-03-08 00:00:00   \n",
       "max      99.960000    10.000000  1042.650000         2019-03-30 00:00:00   \n",
       "std      26.485792     2.922456   245.803332                         NaN   \n",
       "\n",
       "              COGS  Gross_Income       Rating      City_ID  \n",
       "count  3000.000000   3000.000000  3000.000000  3000.000000  \n",
       "mean    307.587380     15.379369     6.972700     2.000000  \n",
       "min      10.170000      0.508500     4.000000     1.000000  \n",
       "25%     118.497500      5.924875     5.500000     1.000000  \n",
       "50%     241.760000     12.088000     7.000000     2.000000  \n",
       "75%     448.905000     22.445250     8.500000     3.000000  \n",
       "max     993.000000     49.650000    10.000000     3.000000  \n",
       "std     234.098412     11.704921     1.718007     0.816633  "
      ]
     },
     "execution_count": 17,
     "metadata": {},
     "output_type": "execute_result"
    }
   ],
   "source": [
    " drop_df.describe()\n"
   ]
  },
  {
   "attachments": {},
   "cell_type": "markdown",
   "metadata": {},
   "source": [
    " As a Data Analyst, I want to explore the correlation between columns of my data set, using the appropriate Pandas function\n",
    "    "
   ]
  },
  {
   "cell_type": "code",
   "execution_count": 18,
   "metadata": {},
   "outputs": [
    {
     "data": {
      "text/html": [
       "<div>\n",
       "<style scoped>\n",
       "    .dataframe tbody tr th:only-of-type {\n",
       "        vertical-align: middle;\n",
       "    }\n",
       "\n",
       "    .dataframe tbody tr th {\n",
       "        vertical-align: top;\n",
       "    }\n",
       "\n",
       "    .dataframe thead th {\n",
       "        text-align: right;\n",
       "    }\n",
       "</style>\n",
       "<table border=\"1\" class=\"dataframe\">\n",
       "  <thead>\n",
       "    <tr style=\"text-align: right;\">\n",
       "      <th></th>\n",
       "      <th>Unit_Price</th>\n",
       "      <th>Quantity</th>\n",
       "      <th>Total</th>\n",
       "      <th>COGS</th>\n",
       "      <th>Gross_Income</th>\n",
       "      <th>Rating</th>\n",
       "      <th>City_ID</th>\n",
       "    </tr>\n",
       "  </thead>\n",
       "  <tbody>\n",
       "    <tr>\n",
       "      <th>Unit_Price</th>\n",
       "      <td>1.000000e+00</td>\n",
       "      <td>1.077756e-02</td>\n",
       "      <td>6.339621e-01</td>\n",
       "      <td>6.339621e-01</td>\n",
       "      <td>6.339621e-01</td>\n",
       "      <td>-8.777507e-03</td>\n",
       "      <td>1.210968e-16</td>\n",
       "    </tr>\n",
       "    <tr>\n",
       "      <th>Quantity</th>\n",
       "      <td>1.077756e-02</td>\n",
       "      <td>1.000000e+00</td>\n",
       "      <td>7.055102e-01</td>\n",
       "      <td>7.055102e-01</td>\n",
       "      <td>7.055102e-01</td>\n",
       "      <td>-1.581490e-02</td>\n",
       "      <td>-2.699034e-17</td>\n",
       "    </tr>\n",
       "    <tr>\n",
       "      <th>Total</th>\n",
       "      <td>6.339621e-01</td>\n",
       "      <td>7.055102e-01</td>\n",
       "      <td>1.000000e+00</td>\n",
       "      <td>1.000000e+00</td>\n",
       "      <td>1.000000e+00</td>\n",
       "      <td>-3.644170e-02</td>\n",
       "      <td>4.598521e-17</td>\n",
       "    </tr>\n",
       "    <tr>\n",
       "      <th>COGS</th>\n",
       "      <td>6.339621e-01</td>\n",
       "      <td>7.055102e-01</td>\n",
       "      <td>1.000000e+00</td>\n",
       "      <td>1.000000e+00</td>\n",
       "      <td>1.000000e+00</td>\n",
       "      <td>-3.644170e-02</td>\n",
       "      <td>4.322798e-17</td>\n",
       "    </tr>\n",
       "    <tr>\n",
       "      <th>Gross_Income</th>\n",
       "      <td>6.339621e-01</td>\n",
       "      <td>7.055102e-01</td>\n",
       "      <td>1.000000e+00</td>\n",
       "      <td>1.000000e+00</td>\n",
       "      <td>1.000000e+00</td>\n",
       "      <td>-3.644170e-02</td>\n",
       "      <td>4.833404e-17</td>\n",
       "    </tr>\n",
       "    <tr>\n",
       "      <th>Rating</th>\n",
       "      <td>-8.777507e-03</td>\n",
       "      <td>-1.581490e-02</td>\n",
       "      <td>-3.644170e-02</td>\n",
       "      <td>-3.644170e-02</td>\n",
       "      <td>-3.644170e-02</td>\n",
       "      <td>1.000000e+00</td>\n",
       "      <td>3.045004e-17</td>\n",
       "    </tr>\n",
       "    <tr>\n",
       "      <th>City_ID</th>\n",
       "      <td>1.210968e-16</td>\n",
       "      <td>-2.699034e-17</td>\n",
       "      <td>4.598521e-17</td>\n",
       "      <td>4.322798e-17</td>\n",
       "      <td>4.833404e-17</td>\n",
       "      <td>3.045004e-17</td>\n",
       "      <td>1.000000e+00</td>\n",
       "    </tr>\n",
       "  </tbody>\n",
       "</table>\n",
       "</div>"
      ],
      "text/plain": [
       "                Unit_Price      Quantity         Total          COGS   \n",
       "Unit_Price    1.000000e+00  1.077756e-02  6.339621e-01  6.339621e-01  \\\n",
       "Quantity      1.077756e-02  1.000000e+00  7.055102e-01  7.055102e-01   \n",
       "Total         6.339621e-01  7.055102e-01  1.000000e+00  1.000000e+00   \n",
       "COGS          6.339621e-01  7.055102e-01  1.000000e+00  1.000000e+00   \n",
       "Gross_Income  6.339621e-01  7.055102e-01  1.000000e+00  1.000000e+00   \n",
       "Rating       -8.777507e-03 -1.581490e-02 -3.644170e-02 -3.644170e-02   \n",
       "City_ID       1.210968e-16 -2.699034e-17  4.598521e-17  4.322798e-17   \n",
       "\n",
       "              Gross_Income        Rating       City_ID  \n",
       "Unit_Price    6.339621e-01 -8.777507e-03  1.210968e-16  \n",
       "Quantity      7.055102e-01 -1.581490e-02 -2.699034e-17  \n",
       "Total         1.000000e+00 -3.644170e-02  4.598521e-17  \n",
       "COGS          1.000000e+00 -3.644170e-02  4.322798e-17  \n",
       "Gross_Income  1.000000e+00 -3.644170e-02  4.833404e-17  \n",
       "Rating       -3.644170e-02  1.000000e+00  3.045004e-17  \n",
       "City_ID       4.833404e-17  3.045004e-17  1.000000e+00  "
      ]
     },
     "execution_count": 18,
     "metadata": {},
     "output_type": "execute_result"
    }
   ],
   "source": [
    "drop_df.corr(numeric_only=True)"
   ]
  },
  {
   "attachments": {},
   "cell_type": "markdown",
   "metadata": {},
   "source": [
    "As a Data Analyst, I want to reshape my two columns to prepare for fitting to a linear regression model, and save each as its own unique variable"
   ]
  },
  {
   "cell_type": "code",
   "execution_count": 30,
   "metadata": {},
   "outputs": [],
   "source": [
    "reshaped_x = drop_df[[\"Quantity\"]]\n",
    "reshaped_y = drop_df[\"Total\"]"
   ]
  },
  {
   "attachments": {},
   "cell_type": "markdown",
   "metadata": {},
   "source": [
    " As a Data Analyst, I want to note the columns with the strongest correlation, and visualize those two columns using a Matplotlib Scatter Plot.  I will ensure my plot includes the following:\n",
    "A chart title\n",
    "A X-axis label\n",
    "A Y-axis label\n"
   ]
  },
  {
   "attachments": {},
   "cell_type": "markdown",
   "metadata": {},
   "source": [
    "As a Data Analyst, I want to create a new LinearRegression instance, and use the appropriate function to create a predictive model for my Y-axis values.\n"
   ]
  },
  {
   "cell_type": "code",
   "execution_count": 26,
   "metadata": {},
   "outputs": [],
   "source": [
    "model= LinearRegression()\n",
    "\n",
    "y_values = drop_df[[\"Quantity\"]]\n",
    "\n",
    "x_values = drop_df[\"Total\"]\n",
    "\n",
    "model.fit(reshaped_x, reshaped_y)\n",
    "\n",
    "prediction_y_values = model.predict(reshaped_x)"
   ]
  },
  {
   "attachments": {},
   "cell_type": "markdown",
   "metadata": {},
   "source": [
    "As a Data Analyst, I want to create a visualization of my predictive model, and ensure I include the following stylizations:\n",
    "A chart title\n",
    "X-axis label\n",
    "Y-axis label\n",
    "A different color line for my predictive model\n"
   ]
  },
  {
   "cell_type": "code",
   "execution_count": 35,
   "metadata": {},
   "outputs": [
    {
     "data": {
      "image/png": "[encoded data removed]",
      "text/plain": [
       "<Figure size 800x600 with 1 Axes>"
      ]
     },
     "metadata": {},
     "output_type": "display_data"
    }
   ],
   "source": [
    "drop_df.plot.scatter(x=\"Quantity\", y=\"Total\", figsize= (8,6))\n",
    "plt.plot(reshaped_x,prediction_y_values, color=\"RED\")\n",
    "plt.title(\"Product Value\")\n",
    "plt.ylabel(\"Total Units Sold\")\n",
    "plt.xlabel(\"Quanitity of purchase\");\n",
    "\n"
   ]
  },
  {
   "attachments": {},
   "cell_type": "markdown",
   "metadata": {},
   "source": [
    " As a Data Analyst, I want to present my findings as a Level I-style video recording (informal) that is no more than 5-8 minutes and covers the following:\n",
    "-The completed results of your Jupyter notebook\n",
    "-Key visualizations generated based off of evaluation questions\n",
    "-Any other cleaned/wrangled supporting data \n",
    "-Communicate any insights you’ve gathered by working with the data\n",
    "-Make sure to address a specific individual in your video as if you were responding to a request for analysis (you can pick a -fictional person or choose an instructor!)\n"
   ]
  },
  {
   "attachments": {},
   "cell_type": "markdown",
   "metadata": {},
   "source": []
  }
 ],
 "metadata": {
  "kernelspec": {
   "display_name": "Python 3",
   "language": "python",
   "name": "python3"
  },
  "language_info": {
   "codemirror_mode": {
    "name": "ipython",
    "version": 3
   },
   "file_extension": ".py",
   "mimetype": "text/x-python",
   "name": "python",
   "nbconvert_exporter": "python",
   "pygments_lexer": "ipython3",
   "version": "3.11.0"
  },
  "orig_nbformat": 4
 },
 "nbformat": 4,
 "nbformat_minor": 2
}
